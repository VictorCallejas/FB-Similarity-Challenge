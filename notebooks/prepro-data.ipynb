{
 "metadata": {
  "language_info": {
   "codemirror_mode": {
    "name": "ipython",
    "version": 3
   },
   "file_extension": ".py",
   "mimetype": "text/x-python",
   "name": "python",
   "nbconvert_exporter": "python",
   "pygments_lexer": "ipython3",
   "version": "3.9.1"
  },
  "orig_nbformat": 4,
  "kernelspec": {
   "name": "python3",
   "display_name": "Python 3.9.1 64-bit"
  },
  "interpreter": {
   "hash": "ac59ebe37160ed0dfa835113d9b8498d9f09ceb179beaac4002f036b9467c963"
  }
 },
 "nbformat": 4,
 "nbformat_minor": 2,
 "cells": [
  {
   "cell_type": "code",
   "execution_count": 5,
   "metadata": {},
   "outputs": [],
   "source": [
    "import pandas as pd"
   ]
  },
  {
   "cell_type": "code",
   "execution_count": 6,
   "metadata": {},
   "outputs": [],
   "source": [
    "DATA_PATH = '../data/'"
   ]
  },
  {
   "cell_type": "code",
   "execution_count": 7,
   "metadata": {},
   "outputs": [
    {
     "output_type": "stream",
     "name": "stdout",
     "text": [
      "(1000000, 3)\n(50000, 3)\n(1000000, 3)\n"
     ]
    },
    {
     "output_type": "execute_result",
     "data": {
      "text/plain": [
       "  image_id                                             s3_uri  \\\n",
       "0   Q00000  s3://drivendata-competition-fb-isc-data/all/qu...   \n",
       "1   Q00001  s3://drivendata-competition-fb-isc-data/all/qu...   \n",
       "2   Q00002  s3://drivendata-competition-fb-isc-data/all/qu...   \n",
       "3   Q00003  s3://drivendata-competition-fb-isc-data/all/qu...   \n",
       "4   Q00004  s3://drivendata-competition-fb-isc-data/all/qu...   \n",
       "\n",
       "                       md5_checksum  \n",
       "0  de21a560619005c56dcbd3a7e6c00fd9  \n",
       "1  7a68c7f40674a463d14d74c8f8033cc7  \n",
       "2  2005093a0ca9b1a33194561b219a0c49  \n",
       "3  9b4f2a7cf20d4256b6d46dbba49dd86d  \n",
       "4  9038b363055284ba8882943d707a4d06  "
      ],
      "text/html": "<div>\n<style scoped>\n    .dataframe tbody tr th:only-of-type {\n        vertical-align: middle;\n    }\n\n    .dataframe tbody tr th {\n        vertical-align: top;\n    }\n\n    .dataframe thead th {\n        text-align: right;\n    }\n</style>\n<table border=\"1\" class=\"dataframe\">\n  <thead>\n    <tr style=\"text-align: right;\">\n      <th></th>\n      <th>image_id</th>\n      <th>s3_uri</th>\n      <th>md5_checksum</th>\n    </tr>\n  </thead>\n  <tbody>\n    <tr>\n      <th>0</th>\n      <td>Q00000</td>\n      <td>s3://drivendata-competition-fb-isc-data/all/qu...</td>\n      <td>de21a560619005c56dcbd3a7e6c00fd9</td>\n    </tr>\n    <tr>\n      <th>1</th>\n      <td>Q00001</td>\n      <td>s3://drivendata-competition-fb-isc-data/all/qu...</td>\n      <td>7a68c7f40674a463d14d74c8f8033cc7</td>\n    </tr>\n    <tr>\n      <th>2</th>\n      <td>Q00002</td>\n      <td>s3://drivendata-competition-fb-isc-data/all/qu...</td>\n      <td>2005093a0ca9b1a33194561b219a0c49</td>\n    </tr>\n    <tr>\n      <th>3</th>\n      <td>Q00003</td>\n      <td>s3://drivendata-competition-fb-isc-data/all/qu...</td>\n      <td>9b4f2a7cf20d4256b6d46dbba49dd86d</td>\n    </tr>\n    <tr>\n      <th>4</th>\n      <td>Q00004</td>\n      <td>s3://drivendata-competition-fb-isc-data/all/qu...</td>\n      <td>9038b363055284ba8882943d707a4d06</td>\n    </tr>\n  </tbody>\n</table>\n</div>"
     },
     "metadata": {},
     "execution_count": 7
    }
   ],
   "source": [
    "reference = pd.read_csv(DATA_PATH + 'reference_images_metadata.csv')\n",
    "query = pd.read_csv(DATA_PATH + 'query_images_metadata.csv')\n",
    "training = pd.read_csv(DATA_PATH + 'training_images_metadata.csv')\n",
    "\n",
    "print(reference.shape)\n",
    "print(query.shape)\n",
    "print(training.shape)\n",
    "\n",
    "query.head()"
   ]
  },
  {
   "cell_type": "code",
   "execution_count": 8,
   "metadata": {},
   "outputs": [
    {
     "output_type": "stream",
     "name": "stdout",
     "text": [
      "s3://drivendata-competition-fb-isc-data/all/reference_images/R000000.jpg\ns3://drivendata-competition-fb-isc-data/all/query_images/Q00000.jpg\ns3://drivendata-competition-fb-isc-data/all/training_images/T000000.jpg\n"
     ]
    }
   ],
   "source": [
    "print(reference.s3_uri.values[0])\n",
    "print(query.s3_uri.values[0])\n",
    "print(training.s3_uri.values[0])"
   ]
  },
  {
   "cell_type": "code",
   "execution_count": 9,
   "metadata": {},
   "outputs": [],
   "source": [
    "reference = reference.drop('s3_uri',axis=1)\n",
    "query = query.drop('s3_uri',axis=1)\n",
    "training = training.drop('s3_uri',axis=1)"
   ]
  },
  {
   "cell_type": "code",
   "execution_count": 10,
   "metadata": {},
   "outputs": [
    {
     "output_type": "stream",
     "name": "stdout",
     "text": [
      "(1000000, 2)\n(50000, 2)\n(1000000, 2)\n"
     ]
    }
   ],
   "source": [
    "print(reference.shape)\n",
    "print(query.shape)\n",
    "print(training.shape)"
   ]
  },
  {
   "cell_type": "code",
   "execution_count": 11,
   "metadata": {},
   "outputs": [],
   "source": [
    "reference.to_csv(DATA_PATH + 'reference_images_metadata.csv',index=False)\n",
    "query.to_csv(DATA_PATH + 'query_images_metadata.csv',index=False)\n",
    "training.to_csv(DATA_PATH + 'training_images_metadata.csv',index=False)"
   ]
  },
  {
   "cell_type": "code",
   "execution_count": null,
   "metadata": {},
   "outputs": [],
   "source": []
  }
 ]
}