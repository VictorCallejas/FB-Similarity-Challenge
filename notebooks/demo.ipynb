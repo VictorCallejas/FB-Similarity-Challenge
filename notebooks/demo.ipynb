{
 "metadata": {
  "language_info": {
   "codemirror_mode": {
    "name": "ipython",
    "version": 3
   },
   "file_extension": ".py",
   "mimetype": "text/x-python",
   "name": "python",
   "nbconvert_exporter": "python",
   "pygments_lexer": "ipython3",
   "version": "3.8.10"
  },
  "orig_nbformat": 4,
  "kernelspec": {
   "name": "python3",
   "display_name": "Python 3.8.10 64-bit ('fb-sim': conda)"
  },
  "interpreter": {
   "hash": "65cdebc95fb369c4a086d71c836eb21039fdfcbbdfa2979d8044194a2df43eaa"
  }
 },
 "nbformat": 4,
 "nbformat_minor": 2,
 "cells": [
  {
   "cell_type": "code",
   "execution_count": null,
   "source": [
    "import pandas as pd\n",
    "\n",
    "import torch\n",
    "import torch.nn as nn\n",
    "\n",
    "from tqdm.notebook import tqdm"
   ],
   "outputs": [],
   "metadata": {}
  },
  {
   "cell_type": "code",
   "execution_count": null,
   "source": [
    "DATA_PATH = '../data/raw/'"
   ],
   "outputs": [],
   "metadata": {}
  },
  {
   "cell_type": "code",
   "execution_count": null,
   "source": [
    "reference = pd.read_csv(DATA_PATH + 'reference_images_metadata.csv')\n",
    "query = pd.read_csv(DATA_PATH + 'query_images_metadata.csv')\n",
    "training = pd.read_csv(DATA_PATH + 'training_images_metadata.csv')\n",
    "gt = pd.read_csv(DATA_PATH + 'public_ground_truth.csv')\n",
    "\n",
    "print(reference.shape)\n",
    "print(query.shape)\n",
    "print(training.shape)\n",
    "print(gt.shape)\n",
    "\n",
    "query.head()"
   ],
   "outputs": [],
   "metadata": {}
  },
  {
   "cell_type": "code",
   "execution_count": null,
   "source": [
    "from torch.utils.data import Dataset\n",
    "import random\n",
    "\n",
    "# Batch size X (Anchor - Positive - Negatives - semi-label)\n",
    "# SOLAR -1, anchor 1 positive 0, negative\n",
    "\n",
    "DTYPE = torch.float32\n",
    "\n",
    "class SOLARDataset(Dataset):\n",
    "    def __init__(self, images):\n",
    "        self.img_ids = images\n",
    "\n",
    "        self.num_augmentations = 1 # 1 for SOLAR\n",
    "        self.num_negatives = 4 # look default in SOLAR\n",
    "    \n",
    "    def __len__(self):\n",
    "        return len(self.img_ids)\n",
    "    \n",
    "    def __getitem__(self, idx):\n",
    "        id_ = self.img_ids[idx]\n",
    "\n",
    "        # Get anchor\n",
    "        anchor = torch.load('../data/processed/images/'+id_+'.pt')\n",
    "\n",
    "        # Get Positive\n",
    "        positive = torch.load('../data/processed/augmented/'+id_+'.pt')\n",
    "\n",
    "        # Get Negatives\n",
    "        negatives = []\n",
    "        for _ in range(self.num_negatives):\n",
    "\n",
    "            neg_idx = idx\n",
    "            while neg_idx == idx:\n",
    "                neg_idx = random.randint(0,self.__len__()-1)\n",
    "\n",
    "            neg_id = self.img_ids[idx]\n",
    "            neg = torch.load('../data/processed/images/'+neg_id+'.pt')\n",
    "            negatives.append(neg.unsqueeze(0))\n",
    "            \n",
    "        negatives = torch.cat(negatives,dim=0)\n",
    " \n",
    "        # Compose\n",
    "        x = torch.cat([anchor.unsqueeze(0),positive.unsqueeze(0),negatives],dim=0).to(DTYPE)\n",
    "        labels = [-1, 1] + ([0] * self.num_negatives)\n",
    "        return {\n",
    "            'x': x,\n",
    "            'labels': torch.tensor(labels)\n",
    "        }\n",
    "        \n",
    "class IterDataset(Dataset):\n",
    "    def __init__(self, images):\n",
    "        self.img_ids = images\n",
    "    \n",
    "    def __len__(self):\n",
    "        return len(self.img_ids)\n",
    "    \n",
    "    def __getitem__(self, idx):\n",
    "        id_ = self.img_ids[idx]\n",
    "        # Compose\n",
    "        return {\n",
    "            'id': id_,\n",
    "            'x': torch.load('../data/processed/images/'+id_+'.pt').unsqueeze(0).to(DTYPE)\n",
    "        }"
   ],
   "outputs": [],
   "metadata": {}
  },
  {
   "cell_type": "code",
   "execution_count": null,
   "source": [
    "\"\"\"\n",
    "train_images = training.image_id.tolist()\n",
    "val_q_images = query.image_id.tolist()\n",
    "val_r_images = reference.image_id.tolist()\n",
    "\"\"\"\n",
    "train_images = []\n",
    "\n",
    "val_q_images = []\n",
    "val_r_images = []\n",
    "for i in range(0,1000):\n",
    "    train_images.append('T'+f\"{i:06d}\")\n",
    "\n",
    "\n",
    "for i in range(0,1000):\n",
    "    val_q_images.append('Q'+f\"{i:05d}\")\n",
    "    val_r_images.append('R'+f\"{i:06d}\")\n",
    "\n",
    "\n",
    "train_dataset = SOLARDataset(train_images)\n",
    "\n",
    "val_q_dataset = IterDataset(val_q_images)\n",
    "val_r_dataset = IterDataset(val_r_images)"
   ],
   "outputs": [],
   "metadata": {}
  },
  {
   "cell_type": "code",
   "execution_count": null,
   "source": [
    "item = train_dataset.__getitem__(0)\n",
    "print(item['x'].shape)\n",
    "print(item['labels'].shape)"
   ],
   "outputs": [],
   "metadata": {}
  },
  {
   "cell_type": "code",
   "execution_count": null,
   "source": [
    "item = val_q_dataset.__getitem__(0)\n",
    "print(item['x'].shape)"
   ],
   "outputs": [],
   "metadata": {}
  },
  {
   "cell_type": "code",
   "execution_count": null,
   "source": [
    "from torch.utils.data import DataLoader\n",
    "\n",
    "NW = 8\n",
    "BS = 8\n",
    "\n",
    "train_dataloader = DataLoader(\n",
    "    train_dataset,\n",
    "    batch_size=BS,\n",
    "    shuffle=True,\n",
    "    num_workers=NW,\n",
    "    pin_memory=True,\n",
    "    #collate_fn=collate_fn,\n",
    ")\n",
    "\n",
    "valid_q_dataloader = DataLoader(\n",
    "    val_q_dataset,\n",
    "    batch_size=BS,\n",
    "    shuffle=False,\n",
    "    num_workers=NW,\n",
    "    pin_memory=True,\n",
    "    #collate_fn=collate_fn,\n",
    ")\n",
    "\n",
    "valid_r_dataloader = DataLoader(\n",
    "    val_r_dataset,\n",
    "    batch_size=BS,\n",
    "    shuffle=False,\n",
    "    num_workers=NW,\n",
    "    pin_memory=True,\n",
    "    #collate_fn=collate_fn,\n",
    ")"
   ],
   "outputs": [],
   "metadata": {}
  },
  {
   "cell_type": "code",
   "execution_count": null,
   "source": [
    "model = torch.hub.load('facebookresearch/deit:main', 'deit_tiny_patch16_224', pretrained=True)\n",
    "model.eval()\n",
    "model.head = torch.nn.Identity()\n",
    "#model"
   ],
   "outputs": [],
   "metadata": {}
  },
  {
   "cell_type": "code",
   "execution_count": null,
   "source": [
    "import neptune.new as neptune\n",
    "run = neptune.init(project='victorcallejas/FBSim',\n",
    "                   api_token='eyJhcGlfYWRkcmVzcyI6Imh0dHBzOi8vYXBwLm5lcHR1bmUuYWkiLCJhcGlfdXJsIjoiaHR0cHM6Ly9hcHAubmVwdHVuZS5haSIsImFwaV9rZXkiOiJlNDRlNTJiNC00OTQwLTQxYjgtYWZiNS02OWQ0MDcwZmU5N2YifQ=='\n",
    "    )"
   ],
   "outputs": [],
   "metadata": {}
  },
  {
   "cell_type": "code",
   "execution_count": null,
   "source": [
    "device = torch.device(\"cuda\")\n",
    "device"
   ],
   "outputs": [],
   "metadata": {}
  },
  {
   "cell_type": "code",
   "execution_count": null,
   "source": [
    "import sys\n",
    "sys.path.append(\"..\")\n",
    "from src.utils.losses.contrastive import TripletLoss\n",
    "from src.utils.losses.SOLAR import SOLARLoss\n",
    "\n",
    "optimizer = torch.optim.AdamW(\n",
    "                model.parameters(),\n",
    "                lr = 2e-5\n",
    "            )\n",
    "\n",
    "criterion = SOLARLoss().to(device)\n",
    "\n",
    "val_steps = 150"
   ],
   "outputs": [],
   "metadata": {}
  },
  {
   "cell_type": "code",
   "execution_count": null,
   "source": [
    " # Validation\n",
    "import h5py\n",
    "import numpy as np\n",
    "\n",
    "from src.eval_metrics_script.eval_metrics import get_matching_from_descs, evaluate_metrics\n",
    "\n",
    "def valid(model,valid_q_dataloader,valid_r_dataloader):\n",
    "\n",
    "    qry_ids, ref_ids = [], []\n",
    "\n",
    "    M_query, M_ref = [], []\n",
    "\n",
    "    model.eval()\n",
    "\n",
    "    for _, batch in tqdm(enumerate(valid_q_dataloader),total=len(valid_q_dataloader)):\n",
    "\n",
    "        x = batch['x'].to(device).flatten(0, 1)\n",
    "        ids = batch['id']\n",
    "        \n",
    "        with torch.cuda.amp.autocast(enabled=False):\n",
    "            with torch.no_grad(): \n",
    "                b_emb = model(x)\n",
    "                qry_ids.extend(ids)\n",
    "                M_query.extend(b_emb.detach())\n",
    "\n",
    "\n",
    "    for _, batch in tqdm(enumerate(valid_r_dataloader),total=len(valid_r_dataloader)):\n",
    "\n",
    "        x = batch['x'].to(device).flatten(0,1)\n",
    "        ids = batch['id']\n",
    "        \n",
    "        with torch.cuda.amp.autocast(enabled=False):\n",
    "            with torch.no_grad(): \n",
    "                b_emb = model(x)\n",
    "                ref_ids.extend(ids)\n",
    "                M_ref.extend(b_emb.detach())\n",
    "\n",
    "    M_query, M_ref = np.asarray(M_query,dtype=np.float32), np.asarray(M_ref,dtype=np.float32)\n",
    "\n",
    "    submission_df = get_matching_from_descs(M_query, M_ref, qry_ids, ref_ids, gt)\n",
    "    ap, rp90 = evaluate_metrics(submission_df, gt)\n",
    "\n",
    "    run[\"dev/ap\"].log(ap)\n",
    "    run[\"dev/rp90\"].log(rp90)\n",
    "    print('VALID - AP: ',ap, 'rp90: ',rp90)\n"
   ],
   "outputs": [],
   "metadata": {}
  },
  {
   "cell_type": "code",
   "execution_count": null,
   "source": [
    "model = model.to(device)\n",
    "\n",
    "\n",
    "for epoch in range(1,1000):\n",
    "    print('EPOCH - ',epoch)\n",
    "\n",
    "    # Training\n",
    "    total_train_loss = 0\n",
    "\n",
    "    model.train()\n",
    "    optimizer.zero_grad()\n",
    "\n",
    "    with tqdm(total=len(train_dataloader)) as t_bar:\n",
    "        for step, batch in enumerate(train_dataloader):\n",
    "\n",
    "            if (step+1) % val_steps == 0:\n",
    "                valid(model,valid_q_dataloader,valid_r_dataloader)\n",
    "                \n",
    "            x = batch['x'].flatten(0,1).to(device)      \n",
    "            targets = batch['labels'].to(device).view(-1)\n",
    "\n",
    "            with torch.cuda.amp.autocast(enabled=False):\n",
    "                b_emb = model(x)\n",
    "\n",
    "            loss = criterion(b_emb.permute(1,0), targets)\n",
    "            run[\"train/batch_loss\"].log(loss)\n",
    "            \n",
    "            loss.backward()\n",
    "            total_train_loss += loss.item()\n",
    "            \n",
    "            t_bar.set_description(\"Batch Loss: \"+str(loss.item()), refresh=True)\n",
    "\n",
    "            optimizer.step()\n",
    "            optimizer.zero_grad()\n",
    "\n",
    "            t_bar.update()\n",
    "\n",
    "    print('TRAIN - Loss: ',total_train_loss/len(train_dataloader))\n",
    "    run[\"train/epoch_loss\"].log(total_train_loss/len(train_dataloader))\n",
    "\n",
    "    \"\"\"\n",
    "    if total_dev_loss < best_dev_loss:\n",
    "        best_dev_loss = total_dev_loss\n",
    "        path = '../artifacts/tmp/'+str(epoch)+'.ckpt'\n",
    "        torch.save({\n",
    "            'model':model.state_dict(),\n",
    "            'opt':optimizer.state_dict(),\n",
    "            'dev_loss':dev_loss\n",
    "        },path)\n",
    "    \"\"\"\n"
   ],
   "outputs": [],
   "metadata": {}
  },
  {
   "cell_type": "code",
   "execution_count": null,
   "source": [],
   "outputs": [],
   "metadata": {}
  },
  {
   "cell_type": "code",
   "execution_count": null,
   "source": [],
   "outputs": [],
   "metadata": {}
  },
  {
   "cell_type": "code",
   "execution_count": null,
   "source": [],
   "outputs": [],
   "metadata": {}
  },
  {
   "cell_type": "markdown",
   "source": [
    "## GENERATE SUBMISSION"
   ],
   "metadata": {}
  },
  {
   "cell_type": "code",
   "execution_count": null,
   "source": [
    " def getDescriptors(model,dataloader,device):\n",
    "\n",
    "    model.to(device)\n",
    "\n",
    "    model.eval()\n",
    "\n",
    "    features = []\n",
    "\n",
    "    for step, batch in tqdm(enumerate(dataloader),total=len(dataloader)):\n",
    "        batch = batch.to(device)\n",
    "        with torch.cuda.amp.autocast(enabled=False):\n",
    "            with torch.no_grad(): \n",
    "                b_logits = model(batch)\n",
    "\n",
    "        features.extend(b_logits)\n",
    "\n",
    "    return features.to_numpy()"
   ],
   "outputs": [],
   "metadata": {}
  },
  {
   "cell_type": "code",
   "execution_count": null,
   "source": [
    "qry_ids = ['Q' + str(x).zfill(5) for x in range(50_000)]\n",
    "ref_ids = ['R' + str(x).zfill(6) for x in range(1_000_000)]\n",
    "\n",
    "query_feats = getDescriptors(model,valid_q_dataloader,device)\n",
    "reference_feats = getDescriptors(model,valid_r_dataloader,device)"
   ],
   "outputs": [],
   "metadata": {}
  },
  {
   "cell_type": "code",
   "execution_count": null,
   "source": [
    "out = \"../submissions/fb-isc-submission.h5\"\n",
    "with h5py.File(out, \"w\") as f:\n",
    "    f.create_dataset(\"query\", data=query_feats)\n",
    "    f.create_dataset(\"reference\", data=reference_feats)\n",
    "    f.create_dataset('query_ids', data=qry_ids)\n",
    "    f.create_dataset('reference_ids', data=ref_ids)"
   ],
   "outputs": [],
   "metadata": {}
  },
  {
   "cell_type": "code",
   "execution_count": null,
   "source": [],
   "outputs": [],
   "metadata": {}
  },
  {
   "cell_type": "code",
   "execution_count": null,
   "source": [],
   "outputs": [],
   "metadata": {}
  },
  {
   "cell_type": "code",
   "execution_count": null,
   "source": [],
   "outputs": [],
   "metadata": {}
  },
  {
   "cell_type": "code",
   "execution_count": null,
   "source": [],
   "outputs": [],
   "metadata": {}
  }
 ]
}