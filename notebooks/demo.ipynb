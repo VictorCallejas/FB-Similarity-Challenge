{
 "metadata": {
  "language_info": {
   "codemirror_mode": {
    "name": "ipython",
    "version": 3
   },
   "file_extension": ".py",
   "mimetype": "text/x-python",
   "name": "python",
   "nbconvert_exporter": "python",
   "pygments_lexer": "ipython3",
   "version": "3.8.10"
  },
  "orig_nbformat": 4,
  "kernelspec": {
   "name": "python3",
   "display_name": "Python 3.8.10 64-bit ('fb-sim': conda)"
  },
  "interpreter": {
   "hash": "65cdebc95fb369c4a086d71c836eb21039fdfcbbdfa2979d8044194a2df43eaa"
  }
 },
 "nbformat": 4,
 "nbformat_minor": 2,
 "cells": [
  {
   "cell_type": "code",
   "execution_count": 16,
   "source": [
    "import pandas as pd\n",
    "\n",
    "import torch\n",
    "import torch.nn as nn\n",
    "\n",
    "import timm\n",
    "import torchvision\n",
    "import torchvision.transforms as T\n",
    "\n",
    "from timm.data.constants import IMAGENET_DEFAULT_MEAN, IMAGENET_DEFAULT_STD\n",
    "\n",
    "from PIL import Image\n",
    "\n",
    "from tqdm.notebook import tqdm"
   ],
   "outputs": [],
   "metadata": {}
  },
  {
   "cell_type": "code",
   "execution_count": 17,
   "source": [
    "DATA_PATH = '../data/'"
   ],
   "outputs": [],
   "metadata": {}
  },
  {
   "cell_type": "code",
   "execution_count": 18,
   "source": [
    "reference = pd.read_csv(DATA_PATH + 'reference_images_metadata.csv')\n",
    "query = pd.read_csv(DATA_PATH + 'query_images_metadata.csv')\n",
    "training = pd.read_csv(DATA_PATH + 'training_images_metadata.csv')\n",
    "gt = pd.read_csv(DATA_PATH + 'public_ground_truth.csv')\n",
    "\n",
    "print(reference.shape)\n",
    "print(query.shape)\n",
    "print(training.shape)\n",
    "print(gt.shape)\n",
    "\n",
    "query.head()"
   ],
   "outputs": [
    {
     "output_type": "stream",
     "name": "stdout",
     "text": [
      "(1000000, 2)\n",
      "(50000, 2)\n",
      "(1000000, 2)\n",
      "(25000, 2)\n"
     ]
    },
    {
     "output_type": "execute_result",
     "data": {
      "text/plain": [
       "  image_id                      md5_checksum\n",
       "0   Q00000  de21a560619005c56dcbd3a7e6c00fd9\n",
       "1   Q00001  7a68c7f40674a463d14d74c8f8033cc7\n",
       "2   Q00002  2005093a0ca9b1a33194561b219a0c49\n",
       "3   Q00003  9b4f2a7cf20d4256b6d46dbba49dd86d\n",
       "4   Q00004  9038b363055284ba8882943d707a4d06"
      ],
      "text/html": [
       "<div>\n",
       "<style scoped>\n",
       "    .dataframe tbody tr th:only-of-type {\n",
       "        vertical-align: middle;\n",
       "    }\n",
       "\n",
       "    .dataframe tbody tr th {\n",
       "        vertical-align: top;\n",
       "    }\n",
       "\n",
       "    .dataframe thead th {\n",
       "        text-align: right;\n",
       "    }\n",
       "</style>\n",
       "<table border=\"1\" class=\"dataframe\">\n",
       "  <thead>\n",
       "    <tr style=\"text-align: right;\">\n",
       "      <th></th>\n",
       "      <th>image_id</th>\n",
       "      <th>md5_checksum</th>\n",
       "    </tr>\n",
       "  </thead>\n",
       "  <tbody>\n",
       "    <tr>\n",
       "      <th>0</th>\n",
       "      <td>Q00000</td>\n",
       "      <td>de21a560619005c56dcbd3a7e6c00fd9</td>\n",
       "    </tr>\n",
       "    <tr>\n",
       "      <th>1</th>\n",
       "      <td>Q00001</td>\n",
       "      <td>7a68c7f40674a463d14d74c8f8033cc7</td>\n",
       "    </tr>\n",
       "    <tr>\n",
       "      <th>2</th>\n",
       "      <td>Q00002</td>\n",
       "      <td>2005093a0ca9b1a33194561b219a0c49</td>\n",
       "    </tr>\n",
       "    <tr>\n",
       "      <th>3</th>\n",
       "      <td>Q00003</td>\n",
       "      <td>9b4f2a7cf20d4256b6d46dbba49dd86d</td>\n",
       "    </tr>\n",
       "    <tr>\n",
       "      <th>4</th>\n",
       "      <td>Q00004</td>\n",
       "      <td>9038b363055284ba8882943d707a4d06</td>\n",
       "    </tr>\n",
       "  </tbody>\n",
       "</table>\n",
       "</div>"
      ]
     },
     "metadata": {},
     "execution_count": 18
    }
   ],
   "metadata": {}
  },
  {
   "cell_type": "code",
   "execution_count": 19,
   "source": [
    "import random\n",
    "import augly.image as imaugs\n",
    "\n",
    "COLOR_JITTER_PARAMS = {\n",
    "    \"brightness_factor\": random.uniform(0.5, 1.5),\n",
    "    \"contrast_factor\": random.uniform(0.5, 1.5),\n",
    "    \"saturation_factor\": random.uniform(0.5, 1.5),\n",
    "}\n",
    "\n",
    "AUGMENTATIONS = [\n",
    "    imaugs.OneOf(\n",
    "        [imaugs.Blur(),imaugs.Pixelization()]\n",
    "    ),\n",
    "    imaugs.ColorJitter(**COLOR_JITTER_PARAMS),\n",
    "    imaugs.OneOf(\n",
    "        [imaugs.OverlayOntoScreenshot(), imaugs.OverlayEmoji(), imaugs.OverlayText()]\n",
    "    ),\n",
    "]\n",
    "\n",
    "NN_TRANSFORMS = T.Compose([\n",
    "    T.Resize(256, interpolation=3),\n",
    "    T.CenterCrop(224),\n",
    "    T.ToTensor(),\n",
    "    T.Normalize(IMAGENET_DEFAULT_MEAN, IMAGENET_DEFAULT_STD),\n",
    "])"
   ],
   "outputs": [
    {
     "output_type": "stream",
     "name": "stderr",
     "text": [
      "/home/victor/miniconda3/envs/fb-sim/lib/python3.8/site-packages/torchvision/transforms/transforms.py:280: UserWarning: Argument interpolation should be of type InterpolationMode instead of int. Please, use InterpolationMode enum.\n",
      "  warnings.warn(\n"
     ]
    }
   ],
   "metadata": {}
  },
  {
   "cell_type": "code",
   "execution_count": 20,
   "source": [
    "from torch.utils.data import Dataset\n",
    "\n",
    "# Batch size X (Anchor - Positive - Negative - semi-label)\n",
    "# 1 similar or -1 dissimilar\n",
    "class SimDataset(Dataset):\n",
    "    def __init__(self, images, AUGMENTATIONS, NN_TRANSFORMS):\n",
    "        self.img_list = images\n",
    "\n",
    "        self.transform = NN_TRANSFORMS\n",
    "        self.augmentations = AUGMENTATIONS\n",
    "\n",
    "        self.num_augmentations = 5\n",
    "        #self.num_negatives = 1\n",
    "    \n",
    "    def __len__(self):\n",
    "        return len(self.img_list)\n",
    "    \n",
    "    def __getitem__(self, idx):\n",
    "        id_ = self.img_list[idx]\n",
    "\n",
    "        # Get anchors\n",
    "        anchor = Image.open('../data/images/'+id_+'.jpg').convert('RGB')\n",
    "        anchors = [self.transform(anchor)] * self.num_augmentations\n",
    "\n",
    "        # Get Positives\n",
    "        positives = []\n",
    "        for _ in range(self.num_augmentations):\n",
    "\n",
    "            COLOR_JITTER_PARAMS = {\n",
    "                \"brightness_factor\": random.uniform(0.3, 1.7),\n",
    "                \"contrast_factor\": random.uniform(0.3, 1.7),\n",
    "                \"saturation_factor\": random.uniform(0.3, 1.7),\n",
    "            }\n",
    "\n",
    "            AUG = imaugs.Compose(self.augmentations)\n",
    "            new_positive = AUG(anchor).convert('RGB')\n",
    "\n",
    "            positives.append(self.transform(new_positive))\n",
    "\n",
    "\n",
    "        # Get Negatives\n",
    "        negatives = []\n",
    "        neg_idx = idx\n",
    "        while neg_idx == idx:\n",
    "            neg_idx = random.randint(0,self.__len__()-1)\n",
    "        neg_id = self.img_list[idx]\n",
    "        neg_image = Image.open('../data/images/'+neg_id+'.jpg')\n",
    "        for _ in range(self.num_augmentations):\n",
    "\n",
    "            COLOR_JITTER_PARAMS = {\n",
    "                \"brightness_factor\": random.uniform(0.3, 1.7),\n",
    "                \"contrast_factor\": random.uniform(0.3, 1.7),\n",
    "                \"saturation_factor\": random.uniform(0.3, 1.7),\n",
    "            }\n",
    "\n",
    "            AUG = imaugs.Compose(self.augmentations)\n",
    "            new_negative = AUG(anchor).convert('RGB')\n",
    "\n",
    "            negatives.append(self.transform(new_negative))\n",
    "\n",
    "\n",
    "        # Compose\n",
    "        return {\n",
    "            'anchors': torch.stack(anchors),\n",
    "            'positives': torch.stack(positives),\n",
    "            'negatives': torch.stack(negatives),\n",
    "            'targets': torch.Tensor([-1, 1]).repeat(self.num_augmentations)\n",
    "        }\n",
    "\n",
    "class IterDataset(Dataset):\n",
    "    def __init__(self, images, NN_TRANSFORMS):\n",
    "        self.img_list = images\n",
    "        self.transform = NN_TRANSFORMS\n",
    "    \n",
    "    def __len__(self):\n",
    "        return len(self.img_list)\n",
    "    \n",
    "    def __getitem__(self, idx):\n",
    "        id_ = self.img_list[idx]\n",
    "\n",
    "        # Get anchors\n",
    "        anchor = Image.open('../data/images/'+id_+'.jpg').convert('RGB')\n",
    "        anchor = self.transform(anchor).unsqueeze(0)\n",
    "\n",
    "        # Compose\n",
    "        return {\n",
    "            'id': id_,\n",
    "            'anchor': anchor\n",
    "        }"
   ],
   "outputs": [],
   "metadata": {}
  },
  {
   "cell_type": "code",
   "execution_count": 21,
   "source": [
    "train_images = []\n",
    "\n",
    "val_q_images = []\n",
    "val_r_images = []\n",
    "for i in range(0,1000):\n",
    "    train_images.append('T'+f\"{i:06d}\")\n",
    "\n",
    "\n",
    "for i in range(0,1000):\n",
    "    val_q_images.append('Q'+f\"{i:05d}\")\n",
    "    val_r_images.append('R'+f\"{i:06d}\")\n",
    "\n",
    "\n",
    "train_dataset = SimDataset(train_images, AUGMENTATIONS, NN_TRANSFORMS)\n",
    "\n",
    "val_q_dataset = IterDataset(val_q_images, NN_TRANSFORMS)\n",
    "val_r_dataset = IterDataset(val_r_images, NN_TRANSFORMS)"
   ],
   "outputs": [],
   "metadata": {}
  },
  {
   "cell_type": "code",
   "execution_count": 22,
   "source": [
    "item = train_dataset.__getitem__(0)\n",
    "item['anchors'].shape"
   ],
   "outputs": [
    {
     "output_type": "execute_result",
     "data": {
      "text/plain": [
       "torch.Size([5, 3, 224, 224])"
      ]
     },
     "metadata": {},
     "execution_count": 22
    }
   ],
   "metadata": {}
  },
  {
   "cell_type": "code",
   "execution_count": 23,
   "source": [
    "item = val_q_dataset.__getitem__(0)\n",
    "item['anchor'].shape"
   ],
   "outputs": [
    {
     "output_type": "execute_result",
     "data": {
      "text/plain": [
       "torch.Size([1, 3, 224, 224])"
      ]
     },
     "metadata": {},
     "execution_count": 23
    }
   ],
   "metadata": {}
  },
  {
   "cell_type": "code",
   "execution_count": 24,
   "source": [
    "from torch.utils.data import DataLoader\n",
    "\n",
    "NW = 3\n",
    "BS = 8\n",
    "\n",
    "train_dataloader = DataLoader(\n",
    "    train_dataset,\n",
    "    batch_size=BS,\n",
    "    shuffle=True,\n",
    "    num_workers=NW,\n",
    "    #collate_fn=collate_fn,\n",
    ")\n",
    "\n",
    "valid_q_dataloader = DataLoader(\n",
    "    val_q_dataset,\n",
    "    batch_size=BS,\n",
    "    shuffle=False,\n",
    "    num_workers=NW,\n",
    "    #collate_fn=collate_fn,\n",
    ")\n",
    "\n",
    "valid_r_dataloader = DataLoader(\n",
    "    val_r_dataset,\n",
    "    batch_size=BS,\n",
    "    shuffle=False,\n",
    "    num_workers=NW,\n",
    "    #collate_fn=collate_fn,\n",
    ")"
   ],
   "outputs": [],
   "metadata": {}
  },
  {
   "cell_type": "code",
   "execution_count": 25,
   "source": [
    "model = torch.hub.load('facebookresearch/deit:main', 'deit_tiny_patch16_224', pretrained=True)\n",
    "model.eval()\n",
    "model.head = torch.nn.Identity()\n",
    "#model"
   ],
   "outputs": [
    {
     "output_type": "stream",
     "name": "stderr",
     "text": [
      "Using cache found in /home/victor/.cache/torch/hub/facebookresearch_deit_main\n"
     ]
    }
   ],
   "metadata": {}
  },
  {
   "cell_type": "code",
   "execution_count": 26,
   "source": [
    "if torch.cuda.is_available():\n",
    "    device = torch.device(\"cuda\")\n",
    "else:\n",
    "    device = torch.device(\"cpu\")\n",
    "device"
   ],
   "outputs": [
    {
     "output_type": "execute_result",
     "data": {
      "text/plain": [
       "device(type='cuda')"
      ]
     },
     "metadata": {},
     "execution_count": 26
    }
   ],
   "metadata": {}
  },
  {
   "cell_type": "code",
   "execution_count": 33,
   "source": [
    "import sys\n",
    "sys.path.append(\"..\")\n",
    "from src.utils.losses import TripletLoss\n",
    "\n",
    "optimizer = torch.optim.SGD(\n",
    "                model.parameters(),\n",
    "                lr = 2e-4\n",
    "            )\n",
    "criterion = TripletLoss()\n",
    "\n",
    "val_steps = 50"
   ],
   "outputs": [],
   "metadata": {}
  },
  {
   "cell_type": "code",
   "execution_count": 34,
   "source": [
    "import neptune.new as neptune\n",
    "run = neptune.init(project='victorcallejas/FBSim')"
   ],
   "outputs": [
    {
     "output_type": "stream",
     "name": "stdout",
     "text": [
      "https://app.neptune.ai/victorcallejas/FBSim/e/FBSIM-31\n",
      "Remember to stop your run once you’ve finished logging your metadata (https://docs.neptune.ai/api-reference/run#stop). It will be stopped automatically only when the notebook kernel/interactive console is terminated.\n"
     ]
    }
   ],
   "metadata": {}
  },
  {
   "cell_type": "code",
   "execution_count": 35,
   "source": [
    " # Validation\n",
    "import h5py\n",
    "import numpy as np\n",
    "\n",
    "from src.eval_metrics_script.eval_metrics import get_matching_from_descs, evaluate_metrics\n",
    "\n",
    "def valid(model,valid_q_dataloader,valid_r_dataloader):\n",
    "\n",
    "    qry_ids, ref_ids = [], []\n",
    "\n",
    "    M_query, M_ref = [], []\n",
    "\n",
    "    model.eval()\n",
    "\n",
    "    for _, batch in tqdm(enumerate(valid_q_dataloader),total=len(valid_q_dataloader)):\n",
    "\n",
    "        anchors = batch['anchor'].to(device).flatten(start_dim=0, end_dim=1)\n",
    "        ids = batch['id']\n",
    "        \n",
    "        with torch.cuda.amp.autocast(enabled=False):\n",
    "            with torch.no_grad(): \n",
    "                b_anchor_emb = model(anchors)\n",
    "                qry_ids.extend(ids)\n",
    "                M_query.extend(b_anchor_emb.cpu().detach().numpy())\n",
    "\n",
    "\n",
    "    for _, batch in tqdm(enumerate(valid_r_dataloader),total=len(valid_r_dataloader)):\n",
    "\n",
    "        anchors = batch['anchor'].to(device).flatten(start_dim=0, end_dim=1)\n",
    "        ids = batch['id']\n",
    "        \n",
    "        with torch.cuda.amp.autocast(enabled=False):\n",
    "            with torch.no_grad(): \n",
    "                b_anchor_emb = model(anchors)\n",
    "                ref_ids.extend(ids)\n",
    "                M_ref.extend(b_anchor_emb.cpu().detach().numpy())\n",
    "\n",
    "    M_query, M_ref = np.asarray(M_query,dtype=np.float32), np.asarray(M_ref,dtype=np.float32)\n",
    "\n",
    "    submission_df = get_matching_from_descs(M_query, M_ref, qry_ids, ref_ids, gt)\n",
    "    ap, rp90 = evaluate_metrics(submission_df, gt)\n",
    "\n",
    "    run[\"dev/ap\"].log(ap)\n",
    "    run[\"dev/rp90\"].log(rp90)\n"
   ],
   "outputs": [],
   "metadata": {}
  },
  {
   "cell_type": "code",
   "execution_count": 36,
   "source": [
    "model = model.to(device)\n",
    "\n",
    "\n",
    "for epoch in range(1,1000):\n",
    "    print('EPOCH - ',epoch)\n",
    "\n",
    "    # Training\n",
    "    total_train_loss = 0\n",
    "\n",
    "    model.train()\n",
    "    optimizer.zero_grad()\n",
    "\n",
    "    for step, batch in tqdm(enumerate(train_dataloader),total=len(train_dataloader)):\n",
    "\n",
    "        if (step+1) % val_steps == 0:\n",
    "            valid(model,valid_q_dataloader,valid_r_dataloader)\n",
    "            \n",
    "\n",
    "        anchors = batch['anchors'].to(device).flatten(start_dim=0, end_dim=1)\n",
    "        positives = batch['positives'].to(device).flatten(start_dim=0, end_dim=1)\n",
    "        negatives = batch['negatives'].to(device).flatten(start_dim=0, end_dim=1)\n",
    "\n",
    "        with torch.cuda.amp.autocast(enabled=False):\n",
    "            b_anchor_emb = model(anchors)\n",
    "            b_pos_emb = model(positives)\n",
    "            b_neg_emb = model(negatives)\n",
    "\n",
    "        loss = criterion(b_anchor_emb, b_pos_emb, b_neg_emb)\n",
    "        run[\"train/batch_loss\"].log(loss)\n",
    "        \n",
    "        loss.backward()\n",
    "\n",
    "        total_train_loss += loss.item()\n",
    "\n",
    "        optimizer.step()\n",
    "        optimizer.zero_grad()\n",
    "\n",
    "    run[\"train/epoch_loss\"].log(total_train_loss/len(train_dataloader))\n",
    "\n",
    "    \"\"\"\n",
    "    if total_dev_loss < best_dev_loss:\n",
    "        best_dev_loss = total_dev_loss\n",
    "        path = '../artifacts/tmp/'+str(epoch)+'.ckpt'\n",
    "        torch.save({\n",
    "            'model':model.state_dict(),\n",
    "            'opt':optimizer.state_dict(),\n",
    "            'dev_loss':dev_loss\n",
    "        },path)\n",
    "    \"\"\"\n"
   ],
   "outputs": [
    {
     "output_type": "stream",
     "name": "stdout",
     "text": [
      "EPOCH -  1\n"
     ]
    },
    {
     "output_type": "display_data",
     "data": {
      "text/plain": [
       "  0%|          | 0/125 [00:00<?, ?it/s]"
      ],
      "application/vnd.jupyter.widget-view+json": {
       "version_major": 2,
       "version_minor": 0,
       "model_id": "c7688c3f0faa46f1aed0944f916033c9"
      }
     },
     "metadata": {}
    }
   ],
   "metadata": {}
  },
  {
   "cell_type": "code",
   "execution_count": null,
   "source": [],
   "outputs": [],
   "metadata": {}
  },
  {
   "cell_type": "code",
   "execution_count": null,
   "source": [],
   "outputs": [],
   "metadata": {}
  },
  {
   "cell_type": "code",
   "execution_count": null,
   "source": [],
   "outputs": [],
   "metadata": {}
  },
  {
   "cell_type": "markdown",
   "source": [
    "## GENERATE SUBMISSION"
   ],
   "metadata": {}
  },
  {
   "cell_type": "code",
   "execution_count": null,
   "source": [
    "import h5py\n",
    "import numpy as np\n",
    "\n",
    "#M_ref = np.random.rand(1_000_000, 256).astype('float32')\n",
    "#M_query = np.random.rand(50_000, 256).astype('float32')\n",
    "\n",
    "qry_ids = ['Q' + str(x).zfill(5) for x in range(50_000)]\n",
    "ref_ids = ['R' + str(x).zfill(6) for x in range(1_000_000)]"
   ],
   "outputs": [],
   "metadata": {}
  },
  {
   "cell_type": "code",
   "execution_count": null,
   "source": [
    "from torch.utils.data import Dataset, DataLoader\n",
    "\n",
    "BATCH_SIZE = 16\n",
    "\n",
    "class SubmDataset(Dataset):\n",
    "    def __init__(self, image_names, transform):\n",
    "        self.image_names = image_names\n",
    "        self.transform = transform\n",
    "        self.image_path = '../data/images/'\n",
    "        self.image_ext = '.jpg'\n",
    "\n",
    "    def __len__(self):\n",
    "        return len(self.image_names)\n",
    "\n",
    "    def __getitem__(self, idx):\n",
    "        img_path =self.image_path + self.image_names[idx] + self.image_ext\n",
    "        im = Image.open(img_path)\n",
    "        img = self.transform(im)\n",
    "        return img"
   ],
   "outputs": [],
   "metadata": {}
  },
  {
   "cell_type": "code",
   "execution_count": null,
   "source": [
    "query_dataset = SubmDataset(qry_ids,transform)\n",
    "reference_dataset = SubmDataset(ref_ids,transform)\n",
    "\n",
    "query_dataloader = DataLoader(query_dataset , batch_size=BATCH_SIZE, sampler=torch.utils.data.SequentialSampler(query_dataset), num_workers=0)\n",
    "reference_dataloader = DataLoader(reference_dataset , batch_size=BATCH_SIZE, sampler=torch.utils.data.SequentialSampler(query_dataset), num_workers=0)"
   ],
   "outputs": [],
   "metadata": {}
  },
  {
   "cell_type": "code",
   "execution_count": null,
   "source": [
    " def getDescriptors(model,dataloader,device):\n",
    "\n",
    "    model.to(device)\n",
    "\n",
    "    model.eval()\n",
    "\n",
    "    features = []\n",
    "\n",
    "    for step, batch in tqdm(enumerate(dataloader),total=len(dataloader)):\n",
    "        batch = batch.to(device)\n",
    "        with torch.cuda.amp.autocast(enabled=False):\n",
    "            with torch.no_grad(): \n",
    "                b_logits = model(batch)\n",
    "\n",
    "        features.extend(b_logits)\n",
    "\n",
    "    return features.to_numpy()"
   ],
   "outputs": [],
   "metadata": {}
  },
  {
   "cell_type": "code",
   "execution_count": null,
   "source": [
    "device = torch.device('cuda')"
   ],
   "outputs": [],
   "metadata": {}
  },
  {
   "cell_type": "code",
   "execution_count": null,
   "source": [
    "query_feats = getDescriptors(model,query_dataloader,device)\n",
    "reference_feats = getDescriptors(model,reference_dataloader,device)"
   ],
   "outputs": [],
   "metadata": {}
  },
  {
   "cell_type": "code",
   "execution_count": null,
   "source": [
    "out = \"../submissions/fb-isc-submission.h5\"\n",
    "with h5py.File(out, \"w\") as f:\n",
    "    f.create_dataset(\"query\", data=query_feats)\n",
    "    f.create_dataset(\"reference\", data=reference_feats)\n",
    "    f.create_dataset('query_ids', data=qry_ids)\n",
    "    f.create_dataset('reference_ids', data=ref_ids)"
   ],
   "outputs": [],
   "metadata": {}
  },
  {
   "cell_type": "code",
   "execution_count": null,
   "source": [],
   "outputs": [],
   "metadata": {}
  },
  {
   "cell_type": "code",
   "execution_count": null,
   "source": [],
   "outputs": [],
   "metadata": {}
  },
  {
   "cell_type": "code",
   "execution_count": null,
   "source": [],
   "outputs": [],
   "metadata": {}
  },
  {
   "cell_type": "code",
   "execution_count": null,
   "source": [],
   "outputs": [],
   "metadata": {}
  }
 ]
}