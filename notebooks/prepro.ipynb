{
 "cells": [
  {
   "cell_type": "code",
   "execution_count": 14,
   "source": [
    "import pandas as pd \n",
    "\n",
    "import torch\n",
    "\n",
    "import torchvision.transforms as T\n",
    "from timm.data.constants import IMAGENET_DEFAULT_MEAN, IMAGENET_DEFAULT_STD\n",
    "\n",
    "from PIL import Image\n",
    "\n",
    "from tqdm.notebook import tqdm\n",
    "\n",
    "from multiprocessing import Pool"
   ],
   "outputs": [],
   "metadata": {}
  },
  {
   "cell_type": "code",
   "execution_count": 15,
   "source": [
    "DATA_PATH = '../data/raw/'\n",
    "OUT_PATH = '../data/processed/'"
   ],
   "outputs": [],
   "metadata": {}
  },
  {
   "cell_type": "code",
   "execution_count": 16,
   "source": [
    "reference = pd.read_csv(DATA_PATH + 'reference_images_metadata.csv').iloc[:1000,:]\n",
    "query = pd.read_csv(DATA_PATH + 'query_images_metadata.csv').iloc[:1000,:]\n",
    "training = pd.read_csv(DATA_PATH + 'training_images_metadata.csv').iloc[:1000,:]"
   ],
   "outputs": [],
   "metadata": {}
  },
  {
   "cell_type": "markdown",
   "source": [
    "For each image in training:\n",
    "- generate positve with augmentations\n",
    "- make NN Transforms\n",
    "- save and generate csv\n",
    "\n",
    "For each image in validation(qry - ref):\n",
    "- make NN Transforms\n",
    "- save"
   ],
   "metadata": {}
  },
  {
   "cell_type": "code",
   "execution_count": null,
   "source": [],
   "outputs": [],
   "metadata": {}
  }
 ],
 "metadata": {
  "orig_nbformat": 4,
  "language_info": {
   "name": "python",
   "version": "3.8.10",
   "mimetype": "text/x-python",
   "codemirror_mode": {
    "name": "ipython",
    "version": 3
   },
   "pygments_lexer": "ipython3",
   "nbconvert_exporter": "python",
   "file_extension": ".py"
  },
  "kernelspec": {
   "name": "python3",
   "display_name": "Python 3.8.10 64-bit ('fb-sim': conda)"
  },
  "interpreter": {
   "hash": "65cdebc95fb369c4a086d71c836eb21039fdfcbbdfa2979d8044194a2df43eaa"
  }
 },
 "nbformat": 4,
 "nbformat_minor": 2
}